{
 "cells": [
  {
   "cell_type": "code",
   "execution_count": 0,
   "metadata": {
    "application/vnd.databricks.v1+cell": {
     "cellMetadata": {
      "byteLimit": 2048000,
      "rowLimit": 10000
     },
     "inputWidgets": {},
     "nuid": "5de5156c-3b01-4946-8762-a12ae1fa1f71",
     "showTitle": false,
     "tableResultSettingsMap": {},
     "title": ""
    }
   },
   "outputs": [],
   "source": [
    "from pyspark.sql import SparkSession\n",
    "spark = SparkSession.builder.getOrCreate()\n",
    "\n",
    "tables = [\"customer\",\"supplier\",\"part\",\"region\",\"nation\",\"orders\",\"lineitem\",\"partsupp\"]\n",
    "\n",
    "for t in tables:\n",
    "    bronze_count = spark.table(f\"team_catalog.bronze.{t}\").count()\n",
    "    silver_count = spark.table(f\"team_catalog.silver.{t}\").count()\n",
    "    status = \"✅ OK\" if bronze_count == silver_count else \"❌ MISMATCH\"\n",
    "    print(f\"{t}: Bronze={bronze_count}, Silver={silver_count}, {status}\")\n"
   ]
  },
  {
   "cell_type": "code",
   "execution_count": 0,
   "metadata": {
    "application/vnd.databricks.v1+cell": {
     "cellMetadata": {},
     "inputWidgets": {},
     "nuid": "5f6d4bbe-eee8-415b-ae9e-66b87af02048",
     "showTitle": false,
     "tableResultSettingsMap": {},
     "title": ""
    }
   },
   "outputs": [],
   "source": [
    "\n"
   ]
  }
 ],
 "metadata": {
  "application/vnd.databricks.v1+notebook": {
   "computePreferences": null,
   "dashboards": [],
   "environmentMetadata": {
    "base_environment": "",
    "environment_version": "3"
   },
   "inputWidgetPreferences": null,
   "language": "python",
   "notebookMetadata": {
    "pythonIndentUnit": 4
   },
   "notebookName": "04_validate_silver",
   "widgets": {}
  },
  "language_info": {
   "name": "python"
  }
 },
 "nbformat": 4,
 "nbformat_minor": 0
}
