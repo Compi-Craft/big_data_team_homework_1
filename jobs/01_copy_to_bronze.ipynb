{
 "cells": [
  {
   "cell_type": "code",
   "execution_count": 0,
   "metadata": {
    "application/vnd.databricks.v1+cell": {
     "cellMetadata": {
      "byteLimit": 2048000,
      "rowLimit": 10000
     },
     "inputWidgets": {},
     "nuid": "024d153d-e5ab-49d7-bd9c-a6d3c5949708",
     "showTitle": false,
     "tableResultSettingsMap": {},
     "title": ""
    }
   },
   "outputs": [],
   "source": [
    "from pyspark.sql import SparkSession\n",
    "spark = SparkSession.builder.getOrCreate()\n",
    "\n",
    "source_catalog = \"samples\"\n",
    "source_schema = \"tpch\"\n",
    "\n",
    "target_catalog = \"team_catalog\"\n",
    "target_schema = \"bronze\"\n",
    "\n",
    "tables = [\"customer\", \"orders\", \"lineitem\", \"supplier\", \"part\", \"partsupp\", \"nation\", \"region\"]\n",
    "\n",
    "for t in tables:\n",
    "    src = f\"{source_catalog}.{source_schema}.{t}\"\n",
    "    tgt = f\"{target_catalog}.{target_schema}.{t}\"\n",
    "    print(f\"📦 Copying {src} → {tgt}\")\n",
    "\n",
    "    df = spark.table(src)\n",
    "\n",
    "    df.write.format(\"delta\").mode(\"overwrite\").saveAsTable(tgt)\n",
    "\n",
    "print(\"✅ Copy to bronze completed successfully!\")\n"
   ]
  }
 ],
 "metadata": {
  "application/vnd.databricks.v1+notebook": {
   "computePreferences": null,
   "dashboards": [],
   "environmentMetadata": {
    "base_environment": "",
    "environment_version": "3"
   },
   "inputWidgetPreferences": null,
   "language": "python",
   "notebookMetadata": {
    "pythonIndentUnit": 4
   },
   "notebookName": "01_copy_to_bronze",
   "widgets": {}
  },
  "language_info": {
   "name": "python"
  }
 },
 "nbformat": 4,
 "nbformat_minor": 0
}
