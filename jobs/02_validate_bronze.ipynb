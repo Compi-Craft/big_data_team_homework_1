{
 "cells": [
  {
   "cell_type": "code",
   "execution_count": 0,
   "metadata": {
    "application/vnd.databricks.v1+cell": {
     "cellMetadata": {
      "byteLimit": 2048000,
      "rowLimit": 10000
     },
     "inputWidgets": {},
     "nuid": "84dc81b8-5a3e-4a3c-92f7-dd5215101e74",
     "showTitle": false,
     "tableResultSettingsMap": {},
     "title": ""
    }
   },
   "outputs": [],
   "source": [
    "from pyspark.sql import SparkSession\n",
    "spark = SparkSession.builder.getOrCreate()\n",
    "\n",
    "source_catalog = \"samples\"\n",
    "source_schema = \"tpch\"\n",
    "\n",
    "target_catalog = \"team_catalog\"\n",
    "target_schema = \"bronze\"\n",
    "\n",
    "tables = [\"customer\", \"orders\", \"lineitem\", \"supplier\", \"part\", \"partsupp\", \"nation\", \"region\"]\n",
    "\n",
    "results = []\n",
    "\n",
    "for t in tables:\n",
    "    src = f\"{source_catalog}.{source_schema}.{t}\"\n",
    "    tgt = f\"{target_catalog}.{target_schema}.{t}\"\n",
    "    \n",
    "    src_count = spark.table(src).count()\n",
    "    tgt_count = spark.table(tgt).count()\n",
    "    \n",
    "    status = \"✅ OK\" if src_count == tgt_count else \"❌ MISMATCH\"\n",
    "    results.append((t, src_count, tgt_count, status))\n",
    "\n",
    "df = spark.createDataFrame(results, [\"table_name\", \"source_count\", \"bronze_count\", \"status\"])\n",
    "\n",
    "display(df)\n"
   ]
  }
 ],
 "metadata": {
  "application/vnd.databricks.v1+notebook": {
   "computePreferences": null,
   "dashboards": [],
   "environmentMetadata": {
    "base_environment": "",
    "environment_version": "3"
   },
   "inputWidgetPreferences": null,
   "language": "python",
   "notebookMetadata": {
    "pythonIndentUnit": 4
   },
   "notebookName": "02_validate_bronze",
   "widgets": {}
  },
  "language_info": {
   "name": "python"
  }
 },
 "nbformat": 4,
 "nbformat_minor": 0
}
