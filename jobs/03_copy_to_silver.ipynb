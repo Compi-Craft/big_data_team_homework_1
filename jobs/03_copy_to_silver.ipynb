{
 "cells": [
  {
   "cell_type": "code",
   "execution_count": 0,
   "metadata": {
    "application/vnd.databricks.v1+cell": {
     "cellMetadata": {
      "byteLimit": 2048000,
      "rowLimit": 10000
     },
     "inputWidgets": {},
     "nuid": "9ab5770a-07fe-4a22-adf2-cb25d0b8a638",
     "showTitle": false,
     "tableResultSettingsMap": {},
     "title": ""
    }
   },
   "outputs": [],
   "source": [
    "from pyspark.sql import SparkSession\n",
    "spark = SparkSession.builder.getOrCreate()\n",
    "\n",
    "tables = [\"customer\",\"supplier\",\"part\",\"region\",\"nation\",\"orders\",\"lineitem\",\"partsupp\"]\n",
    "\n",
    "for t in tables:\n",
    "    print(f\"Loading {t} from Bronze → Silver\")\n",
    "    df = spark.table(f\"team_catalog.bronze.{t}\")\n",
    "    df.write.format(\"delta\").mode(\"append\").saveAsTable(f\"team_catalog.silver.{t}\")\n",
    "\n",
    "print(\"✅ All tables loaded into Silver\")\n"
   ]
  }
 ],
 "metadata": {
  "application/vnd.databricks.v1+notebook": {
   "computePreferences": null,
   "dashboards": [],
   "environmentMetadata": {
    "base_environment": "",
    "environment_version": "3"
   },
   "inputWidgetPreferences": null,
   "language": "python",
   "notebookMetadata": {
    "pythonIndentUnit": 4
   },
   "notebookName": "03_copy_to_silver",
   "widgets": {}
  },
  "language_info": {
   "name": "python"
  }
 },
 "nbformat": 4,
 "nbformat_minor": 0
}
